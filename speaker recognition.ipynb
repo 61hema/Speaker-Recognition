{
 "cells": [
  {
   "cell_type": "code",
   "execution_count": 1,
   "metadata": {},
   "outputs": [],
   "source": [
    "# If true, the WAV files will be read and their features will be saved in the CSV files\n",
    "# As this is the most time consuming task, only enable it if you don't have the CSV files yet\n",
    "CREATE_CSV_FILES = True"
   ]
  },
  {
   "cell_type": "code",
   "execution_count": 2,
   "metadata": {},
   "outputs": [],
   "source": [
    "# Defines the names of the CSV files\n",
    "TRAIN_CSV_FILE = \"train.csv\"\n",
    "TEST_CSV_FILE = \"test.csv\"\n",
    "MORE_TRAIN_CSV_FILE = \"more_train.csv\"\n",
    "MORE_TEST_CSV_FILE = \"more_test.csv\""
   ]
  },
  {
   "cell_type": "code",
   "execution_count": 3,
   "metadata": {},
   "outputs": [
    {
     "name": "stderr",
     "output_type": "stream",
     "text": [
      "In C:\\Users\\Yana\\Anaconda3\\lib\\site-packages\\matplotlib\\mpl-data\\stylelib\\_classic_test.mplstyle: \n",
      "The text.latex.preview rcparam was deprecated in Matplotlib 3.3 and will be removed two minor releases later.\n",
      "In C:\\Users\\Yana\\Anaconda3\\lib\\site-packages\\matplotlib\\mpl-data\\stylelib\\_classic_test.mplstyle: \n",
      "The mathtext.fallback_to_cm rcparam was deprecated in Matplotlib 3.3 and will be removed two minor releases later.\n",
      "In C:\\Users\\Yana\\Anaconda3\\lib\\site-packages\\matplotlib\\mpl-data\\stylelib\\_classic_test.mplstyle: Support for setting the 'mathtext.fallback_to_cm' rcParam is deprecated since 3.3 and will be removed two minor releases later; use 'mathtext.fallback : 'cm' instead.\n",
      "In C:\\Users\\Yana\\Anaconda3\\lib\\site-packages\\matplotlib\\mpl-data\\stylelib\\_classic_test.mplstyle: \n",
      "The validate_bool_maybe_none function was deprecated in Matplotlib 3.3 and will be removed two minor releases later.\n",
      "In C:\\Users\\Yana\\Anaconda3\\lib\\site-packages\\matplotlib\\mpl-data\\stylelib\\_classic_test.mplstyle: \n",
      "The savefig.jpeg_quality rcparam was deprecated in Matplotlib 3.3 and will be removed two minor releases later.\n",
      "In C:\\Users\\Yana\\Anaconda3\\lib\\site-packages\\matplotlib\\mpl-data\\stylelib\\_classic_test.mplstyle: \n",
      "The keymap.all_axes rcparam was deprecated in Matplotlib 3.3 and will be removed two minor releases later.\n",
      "In C:\\Users\\Yana\\Anaconda3\\lib\\site-packages\\matplotlib\\mpl-data\\stylelib\\_classic_test.mplstyle: \n",
      "The animation.avconv_path rcparam was deprecated in Matplotlib 3.3 and will be removed two minor releases later.\n",
      "In C:\\Users\\Yana\\Anaconda3\\lib\\site-packages\\matplotlib\\mpl-data\\stylelib\\_classic_test.mplstyle: \n",
      "The animation.avconv_args rcparam was deprecated in Matplotlib 3.3 and will be removed two minor releases later.\n"
     ]
    },
    {
     "name": "stdout",
     "output_type": "stream",
     "text": [
      "The features of the files in the folder ./data/recordings/train will be saved to train.csv\n",
      "CSV Header:  ['filename', 'chroma_stft', 'rmse', 'spectral_centroid', 'spectral_bandwidth', 'rolloff', 'zero_crossing_rate', 'mfcc1', 'mfcc2', 'mfcc3', 'mfcc4', 'mfcc5', 'mfcc6', 'mfcc7', 'mfcc8', 'mfcc9', 'mfcc10', 'mfcc11', 'mfcc12', 'mfcc13', 'mfcc14', 'mfcc15', 'mfcc16', 'mfcc17', 'mfcc18', 'mfcc19', 'mfcc20', 'label']\n",
      "End of extractWavFeatures\n",
      "The features of the files in the folder ./data/recordings/test will be saved to test.csv\n",
      "CSV Header:  ['filename', 'chroma_stft', 'rmse', 'spectral_centroid', 'spectral_bandwidth', 'rolloff', 'zero_crossing_rate', 'mfcc1', 'mfcc2', 'mfcc3', 'mfcc4', 'mfcc5', 'mfcc6', 'mfcc7', 'mfcc8', 'mfcc9', 'mfcc10', 'mfcc11', 'mfcc12', 'mfcc13', 'mfcc14', 'mfcc15', 'mfcc16', 'mfcc17', 'mfcc18', 'mfcc19', 'mfcc20', 'label']\n",
      "End of extractWavFeatures\n",
      "The features of the files in the folder ./data/recordings/moreSpeakersTrain will be saved to more_train.csv\n",
      "CSV Header:  ['filename', 'chroma_stft', 'rmse', 'spectral_centroid', 'spectral_bandwidth', 'rolloff', 'zero_crossing_rate', 'mfcc1', 'mfcc2', 'mfcc3', 'mfcc4', 'mfcc5', 'mfcc6', 'mfcc7', 'mfcc8', 'mfcc9', 'mfcc10', 'mfcc11', 'mfcc12', 'mfcc13', 'mfcc14', 'mfcc15', 'mfcc16', 'mfcc17', 'mfcc18', 'mfcc19', 'mfcc20', 'label']\n",
      "End of extractWavFeatures\n",
      "The features of the files in the folder ./data/recordings/moreSpeakersTest will be saved to more_test.csv\n",
      "CSV Header:  ['filename', 'chroma_stft', 'rmse', 'spectral_centroid', 'spectral_bandwidth', 'rolloff', 'zero_crossing_rate', 'mfcc1', 'mfcc2', 'mfcc3', 'mfcc4', 'mfcc5', 'mfcc6', 'mfcc7', 'mfcc8', 'mfcc9', 'mfcc10', 'mfcc11', 'mfcc12', 'mfcc13', 'mfcc14', 'mfcc15', 'mfcc16', 'mfcc17', 'mfcc18', 'mfcc19', 'mfcc20', 'label']\n",
      "End of extractWavFeatures\n",
      "CSV files are created\n"
     ]
    }
   ],
   "source": [
    "import matplotlib.pyplot as plt\n",
    "import numpy as np\n",
    "from matplotlib import cm\n",
    "import librosa\n",
    "import csv\n",
    "import os\n",
    "\n",
    "def extractWavFeatures(soundFilesFolder, csvFileName):\n",
    "    print(\"The features of the files in the folder \"+soundFilesFolder+\" will be saved to \"+csvFileName)\n",
    "    header = 'filename chroma_stft rmse spectral_centroid spectral_bandwidth rolloff zero_crossing_rate'\n",
    "    for i in range(1, 21):\n",
    "        header += f' mfcc{i}'\n",
    "    header += ' label'\n",
    "    header = header.split()\n",
    "    print('CSV Header: ', header)\n",
    "    file = open(csvFileName, 'w', newline='')\n",
    "    writer = csv.writer(file)\n",
    "    writer.writerow(header)\n",
    "    genres = '1 2 3 4 5 6 7 8 9 0'.split()\n",
    "    for filename in os.listdir(soundFilesFolder):\n",
    "        number = f'{soundFilesFolder}/{filename}'\n",
    "        y, sr = librosa.load(number, mono=True, duration=30)\n",
    "        # remove leading and trailing silence\n",
    "        y, index = librosa.effects.trim(y)\n",
    "        chroma_stft = librosa.feature.chroma_stft(y=y, sr=sr)\n",
    "        rmse = librosa.feature.rms(y=y)\n",
    "        spec_cent = librosa.feature.spectral_centroid(y=y, sr=sr)\n",
    "        spec_bw = librosa.feature.spectral_bandwidth(y=y, sr=sr)\n",
    "        rolloff = librosa.feature.spectral_rolloff(y=y, sr=sr)\n",
    "        zcr = librosa.feature.zero_crossing_rate(y)\n",
    "        mfcc = librosa.feature.mfcc(y=y, sr=sr)\n",
    "        to_append = f'{filename} {np.mean(chroma_stft)} {np.mean(rmse)} {np.mean(spec_cent)} {np.mean(spec_bw)} {np.mean(rolloff)} {np.mean(zcr)}'\n",
    "        for e in mfcc:\n",
    "            to_append += f' {np.mean(e)}'\n",
    "        writer.writerow(to_append.split())\n",
    "    file.close()\n",
    "    print(\"End of extractWavFeatures\")\n",
    "\n",
    "if (CREATE_CSV_FILES == True):\n",
    "    extractWavFeatures(\"./data/recordings/train\", TRAIN_CSV_FILE)\n",
    "    extractWavFeatures(\"./data/recordings/test\", TEST_CSV_FILE)\n",
    "    extractWavFeatures(\"./data/recordings/moreSpeakersTrain\", MORE_TRAIN_CSV_FILE)\n",
    "    extractWavFeatures(\"./data/recordings/moreSpeakersTest\", MORE_TEST_CSV_FILE)\n",
    "    print(\"CSV files are created\")\n",
    "else:\n",
    "    print(\"CSV files creation is skipped\")"
   ]
  },
  {
   "cell_type": "code",
   "execution_count": 4,
   "metadata": {},
   "outputs": [
    {
     "name": "stdout",
     "output_type": "stream",
     "text": [
      "train.csv will be preprocessed\n",
      "Preprocessing is finished\n",
      "       rmse  spectral_centroid  spectral_bandwidth      rolloff  \\\n",
      "0  0.112672         741.829081          758.492178  1438.494873   \n",
      "1  0.090344         635.610880          670.336296  1160.452403   \n",
      "2  0.091456         667.786694          732.606545  1257.180176   \n",
      "3  0.087751         712.304185          731.292437  1449.104818   \n",
      "4  0.096603         844.363886          777.868127  1569.583263   \n",
      "\n",
      "   zero_crossing_rate       mfcc1       mfcc2      mfcc3      mfcc4  \\\n",
      "0            0.034023 -295.578461  189.853683 -19.606564   6.078509   \n",
      "1            0.033458 -339.148743  204.005249  -7.485528  14.297899   \n",
      "2            0.033268 -327.507416  195.596924  -3.994768  21.315845   \n",
      "3            0.035916 -320.809937  200.023743  -8.186146  12.661074   \n",
      "4            0.049465 -315.801300  195.674118 -13.324564   3.544238   \n",
      "\n",
      "       mfcc5  ...     mfcc12    mfcc13     mfcc14     mfcc15    mfcc16  \\\n",
      "0  22.067095  ... -25.725817 -5.172223  -8.323026 -10.299589 -0.144793   \n",
      "1  20.885138  ... -23.196369 -1.290891  -5.515564 -15.416287  0.405876   \n",
      "2  18.372593  ... -18.677113 -3.098450 -10.447586 -10.053793  3.248016   \n",
      "3  15.654718  ... -20.832333 -1.118007  -6.681235 -11.685319  2.010999   \n",
      "4  12.279986  ... -18.158249  6.031695  -6.353736 -15.983871  1.465030   \n",
      "\n",
      "      mfcc17     mfcc18    mfcc19     mfcc20  number  \n",
      "0  -9.017329  -4.569392  2.881349 -15.627436       0  \n",
      "1  -3.624587 -11.204144 -0.096359  -6.751650       0  \n",
      "2 -11.686995 -10.726046  6.857377  -9.067446       0  \n",
      "3  -5.946658  -6.905020  4.136240  -9.614882       0  \n",
      "4  -5.109472  -8.666434  5.026890  -5.346444       0  \n",
      "\n",
      "[5 rows x 26 columns]\n",
      "test.csv will be preprocessed\n",
      "Preprocessing is finished\n",
      "       rmse  spectral_centroid  spectral_bandwidth      rolloff  \\\n",
      "0  0.095394         756.450712          761.875940  1463.941148   \n",
      "1  0.040176         791.046914         1039.695939  2027.709961   \n",
      "2  0.006984         958.934867          941.639039  2084.106445   \n",
      "3  0.071547         759.877794          899.957003  1427.553489   \n",
      "4  0.030382         968.793389         1024.834851  1911.968994   \n",
      "\n",
      "   zero_crossing_rate       mfcc1       mfcc2      mfcc3      mfcc4  \\\n",
      "0            0.037296 -328.263885  180.479416  -0.485356  15.525290   \n",
      "1            0.031440 -385.602570  189.328186 -37.268154  59.937920   \n",
      "2            0.040039 -542.812622  217.971329 -62.197266  21.537390   \n",
      "3            0.030429 -355.530396  204.388977 -20.676432  26.671135   \n",
      "4            0.045654 -376.499390  237.137833 -59.964413  37.715607   \n",
      "\n",
      "       mfcc5  ...     mfcc12     mfcc13     mfcc14     mfcc15     mfcc16  \\\n",
      "0  20.992447  ... -15.426966   7.284101  -6.443027 -13.377846  -2.407696   \n",
      "1  45.049831  ... -31.051588   3.420475  -9.762264 -11.220519  12.306477   \n",
      "2  37.756233  ... -26.797359   5.341060 -12.159102 -14.180812   9.346476   \n",
      "3  15.797894  ... -18.198524   4.029843 -10.552087 -21.039103  -5.634320   \n",
      "4  21.510382  ... -21.805593  13.740063  -6.738161  -9.305484  13.205662   \n",
      "\n",
      "      mfcc17     mfcc18    mfcc19     mfcc20  number  \n",
      "0 -12.902534 -10.437113 -1.025342 -15.457672       0  \n",
      "1  -5.082399  -3.775386  9.707520  -8.757109       0  \n",
      "2 -10.899978  -9.715154  5.997578 -12.574761       0  \n",
      "3 -14.788965 -11.016036 -1.313915 -16.993853       1  \n",
      "4 -11.917943  -7.877903  9.777577 -10.397771       1  \n",
      "\n",
      "[5 rows x 26 columns]\n",
      "more_train.csv will be preprocessed\n",
      "Preprocessing is finished\n",
      "       rmse  spectral_centroid  spectral_bandwidth      rolloff  \\\n",
      "0  0.039759        1358.208628         1890.243941  2540.917969   \n",
      "1  0.302424         879.994019         1137.986581  1826.501859   \n",
      "2  0.026959        1237.544903         1219.890113  2372.379244   \n",
      "3  0.027274        1523.814892         2030.693021  3053.946533   \n",
      "4  0.304633         625.579402          799.806332  1029.825439   \n",
      "\n",
      "   zero_crossing_rate       mfcc1       mfcc2      mfcc3      mfcc4  \\\n",
      "0            0.093363 -349.631744  135.204880  19.397516  12.044560   \n",
      "1            0.031423 -225.136642  150.581146 -11.930015   5.277393   \n",
      "2            0.059871 -378.096527  180.817047 -41.006123  22.502394   \n",
      "3            0.084253 -403.760406  127.670433  23.293980   7.495267   \n",
      "4            0.023584 -228.231903  191.904144   1.268919  17.871378   \n",
      "\n",
      "       mfcc5  ...     mfcc12     mfcc13     mfcc14     mfcc15     mfcc16  \\\n",
      "0  -8.521679  ... -12.872719  -3.118359  -4.095297  -8.339793  -4.422189   \n",
      "1 -16.297689  ... -13.114679 -13.413434 -17.883400 -17.694012 -18.091360   \n",
      "2  -8.963315  ... -32.601868  -4.715013  -8.889856 -11.225335 -10.951420   \n",
      "3  -6.774144  ...  -6.803736  -3.132436  -2.999972 -14.086405  -9.653265   \n",
      "4  -4.571987  ...  -5.878147  -9.646010 -15.565687 -17.903820 -14.293053   \n",
      "\n",
      "      mfcc17     mfcc18     mfcc19     mfcc20  number  \n",
      "0  -2.988979  -0.864654  -4.008632   3.243912       0  \n",
      "1 -14.684992 -16.672678 -10.986701 -10.445865       0  \n",
      "2  -8.972343  -4.716431  -5.655877  -7.133625       0  \n",
      "3  -7.696736  -2.747039 -11.928693  -4.345026       1  \n",
      "4 -14.907637  -9.752652 -10.333108  -7.938379       1  \n",
      "\n",
      "[5 rows x 26 columns]\n",
      "more_test.csv will be preprocessed\n",
      "Preprocessing is finished\n",
      "       rmse  spectral_centroid  spectral_bandwidth      rolloff  \\\n",
      "0  0.070496        1736.761057         1697.429353  2782.932447   \n",
      "1  0.178100         986.240750         1243.094994  2207.479581   \n",
      "2  0.159381        1140.769641         1151.467042  2283.347731   \n",
      "3  0.102912        1270.788895         1624.572386  2442.362154   \n",
      "4  0.243922         839.268659          985.135107  1423.724724   \n",
      "\n",
      "   zero_crossing_rate       mfcc1       mfcc2      mfcc3      mfcc4  \\\n",
      "0            0.095979 -270.462311  120.525047 -16.563780  25.340767   \n",
      "1            0.045351 -230.533142  171.157135  -5.515658  20.675377   \n",
      "2            0.056547 -261.164734  169.949051 -12.116495   0.249354   \n",
      "3            0.055965 -264.190643  154.578888  -9.901300   1.276820   \n",
      "4            0.037626 -191.595886  189.683578 -29.157557  16.972126   \n",
      "\n",
      "       mfcc5  ...     mfcc12    mfcc13     mfcc14     mfcc15     mfcc16  \\\n",
      "0  -8.705835  ... -20.140139 -1.016966 -11.883264  -8.389127  -4.095136   \n",
      "1  -3.108402  ... -14.097898 -9.547956  -9.970568 -15.526528 -17.028362   \n",
      "2   8.262510  ... -26.140615 -3.177802  -5.860640 -14.931437 -12.212287   \n",
      "3  -4.987144  ...  -9.880266 -0.010168 -10.896443  -5.682155  -0.433506   \n",
      "4 -13.665516  ... -14.553379 -6.711682 -15.045199 -11.206120 -11.227142   \n",
      "\n",
      "      mfcc17     mfcc18     mfcc19     mfcc20  number  \n",
      "0   2.231520  -6.269879  -7.276823   0.429325       0  \n",
      "1 -13.014733  -9.094009   1.289093  -5.188507       0  \n",
      "2  -5.934423  -2.185390  -7.319934 -12.082070       0  \n",
      "3   6.786911 -10.947194 -11.484864  -0.297753       1  \n",
      "4  -9.380515 -11.611271  -7.099938  -6.555156       1  \n",
      "\n",
      "[5 rows x 26 columns]\n"
     ]
    }
   ],
   "source": [
    "import pandas as pd\n",
    "import csv\n",
    "from sklearn import preprocessing\n",
    "\n",
    "def preProcessData(csvFileName):\n",
    "    print(csvFileName+ \" will be preprocessed\")\n",
    "    data = pd.read_csv(csvFileName)\n",
    "    data['number'] = data['filename'].str[:1]\n",
    "    #Dropping unnecessary columns\n",
    "    data = data.drop(['filename'],axis=1)\n",
    "    data = data.drop(['label'],axis=1)\n",
    "    data = data.drop(['chroma_stft'],axis=1)\n",
    "    data.shape\n",
    "\n",
    "    print(\"Preprocessing is finished\")\n",
    "    print(data.head())\n",
    "    return data\n",
    "\n",
    "trainData = preProcessData(TRAIN_CSV_FILE)\n",
    "testData = preProcessData(TEST_CSV_FILE)\n",
    "moreTrainData = preProcessData(MORE_TRAIN_CSV_FILE)\n",
    "moreTestData = preProcessData(MORE_TEST_CSV_FILE)"
   ]
  },
  {
   "cell_type": "markdown",
   "metadata": {},
   "source": [
    "# Section 2\n",
    "\n",
    "\n",
    "\n",
    "There are 50 recordings for each digit for each speaker: Jackson, Nicolas and Theo (total 1500 recordings)\n",
    "\n",
    "Training data has 49 recordings for each digit for each speaker: 1470 recordings total. Test data has 1 recordings for each digit for each speaker: 30 recordings total.\n",
    "\n",
    "The data used here comes from the recordings stored in:\n",
    "\n",
    "../data/recordings/train\n",
    "\n",
    "../data/recordings/test\n",
    "\n",
    "The model will be trained to predict the spoken digit.\n"
   ]
  },
  {
   "cell_type": "code",
   "execution_count": 5,
   "metadata": {},
   "outputs": [
    {
     "name": "stdout",
     "output_type": "stream",
     "text": [
      "Y from training data: (1029,)\n",
      "Y from validation data: (441,)\n",
      "Y from test data: (30,)\n"
     ]
    }
   ],
   "source": [
    "# Splitting the dataset into training, validation and testing dataset\n",
    "from sklearn.model_selection import train_test_split\n",
    "X = np.array(trainData.iloc[:, :-1], dtype = float)\n",
    "y = trainData.iloc[:, -1]\n",
    "X_train, X_val, y_train, y_val = train_test_split(X, y, test_size=0.3, random_state=42)\n",
    "\n",
    "\n",
    "X_test = np.array(testData.iloc[:, :-1], dtype = float)\n",
    "y_test = testData.iloc[:, -1]\n",
    "\n",
    "print(\"Y from training data:\", y_train.shape)\n",
    "print(\"Y from validation data:\", y_val.shape)\n",
    "print(\"Y from test data:\", y_test.shape)"
   ]
  },
  {
   "cell_type": "code",
   "execution_count": 6,
   "metadata": {},
   "outputs": [
    {
     "name": "stdout",
     "output_type": "stream",
     "text": [
      "X from training data (1029, 25)\n",
      "X from validation data (441, 25)\n",
      "X from test data (30, 25)\n"
     ]
    }
   ],
   "source": [
    "#Normalizing the dataset\n",
    "from sklearn.preprocessing import StandardScaler\n",
    "import numpy as np\n",
    "scaler = StandardScaler()\n",
    "X_train = scaler.fit_transform( X_train )\n",
    "X_val = scaler.transform( X_val )\n",
    "X_test = scaler.transform( X_test )\n",
    "\n",
    "print(\"X from training data\", X_train.shape)\n",
    "print(\"X from validation data\", X_val.shape)\n",
    "print(\"X from test data\", X_test.shape)\n"
   ]
  },
  {
   "cell_type": "code",
   "execution_count": 7,
   "metadata": {},
   "outputs": [
    {
     "name": "stderr",
     "output_type": "stream",
     "text": [
      "Using TensorFlow backend.\n"
     ]
    },
    {
     "name": "stdout",
     "output_type": "stream",
     "text": [
      "Model: \"sequential_1\"\n",
      "_________________________________________________________________\n",
      "Layer (type)                 Output Shape              Param #   \n",
      "=================================================================\n",
      "dense_1 (Dense)              (None, 256)               6656      \n",
      "_________________________________________________________________\n",
      "dropout_1 (Dropout)          (None, 256)               0         \n",
      "_________________________________________________________________\n",
      "dense_2 (Dense)              (None, 128)               32896     \n",
      "_________________________________________________________________\n",
      "dropout_2 (Dropout)          (None, 128)               0         \n",
      "_________________________________________________________________\n",
      "dense_3 (Dense)              (None, 64)                8256      \n",
      "_________________________________________________________________\n",
      "dropout_3 (Dropout)          (None, 64)                0         \n",
      "_________________________________________________________________\n",
      "dense_4 (Dense)              (None, 10)                650       \n",
      "=================================================================\n",
      "Total params: 48,458\n",
      "Trainable params: 48,458\n",
      "Non-trainable params: 0\n",
      "_________________________________________________________________\n",
      "Train on 1029 samples, validate on 441 samples\n",
      "Epoch 1/50\n",
      "1029/1029 [==============================] - 2s 2ms/step - loss: 2.4065 - accuracy: 0.1176 - val_loss: 2.1322 - val_accuracy: 0.3900\n",
      "Epoch 2/50\n",
      "1029/1029 [==============================] - 0s 29us/step - loss: 2.2158 - accuracy: 0.1905 - val_loss: 2.0272 - val_accuracy: 0.4558\n",
      "Epoch 3/50\n",
      "1029/1029 [==============================] - 0s 29us/step - loss: 2.0965 - accuracy: 0.2468 - val_loss: 1.9101 - val_accuracy: 0.5533\n",
      "Epoch 4/50\n",
      "1029/1029 [==============================] - 0s 29us/step - loss: 1.9694 - accuracy: 0.3168 - val_loss: 1.7638 - val_accuracy: 0.6236\n",
      "Epoch 5/50\n",
      "1029/1029 [==============================] - 0s 28us/step - loss: 1.8156 - accuracy: 0.3771 - val_loss: 1.5834 - val_accuracy: 0.6712\n",
      "Epoch 6/50\n",
      "1029/1029 [==============================] - 0s 29us/step - loss: 1.7186 - accuracy: 0.3984 - val_loss: 1.3998 - val_accuracy: 0.7188\n",
      "Epoch 7/50\n",
      "1029/1029 [==============================] - 0s 28us/step - loss: 1.5402 - accuracy: 0.4898 - val_loss: 1.2197 - val_accuracy: 0.7596\n",
      "Epoch 8/50\n",
      "1029/1029 [==============================] - 0s 29us/step - loss: 1.4440 - accuracy: 0.4995 - val_loss: 1.0527 - val_accuracy: 0.7778\n",
      "Epoch 9/50\n",
      "1029/1029 [==============================] - 0s 28us/step - loss: 1.3159 - accuracy: 0.5394 - val_loss: 0.9158 - val_accuracy: 0.8095\n",
      "Epoch 10/50\n",
      "1029/1029 [==============================] - 0s 29us/step - loss: 1.2522 - accuracy: 0.5452 - val_loss: 0.8039 - val_accuracy: 0.8345\n",
      "Epoch 11/50\n",
      "1029/1029 [==============================] - 0s 28us/step - loss: 1.1393 - accuracy: 0.6045 - val_loss: 0.7126 - val_accuracy: 0.8571\n",
      "Epoch 12/50\n",
      "1029/1029 [==============================] - 0s 36us/step - loss: 1.0661 - accuracy: 0.6229 - val_loss: 0.6355 - val_accuracy: 0.8662\n",
      "Epoch 13/50\n",
      "1029/1029 [==============================] - 0s 28us/step - loss: 1.0112 - accuracy: 0.6395 - val_loss: 0.5755 - val_accuracy: 0.8685\n",
      "Epoch 14/50\n",
      "1029/1029 [==============================] - 0s 28us/step - loss: 0.9564 - accuracy: 0.6657 - val_loss: 0.5222 - val_accuracy: 0.8934\n",
      "Epoch 15/50\n",
      "1029/1029 [==============================] - 0s 28us/step - loss: 0.9211 - accuracy: 0.6735 - val_loss: 0.4704 - val_accuracy: 0.9025\n",
      "Epoch 16/50\n",
      "1029/1029 [==============================] - 0s 28us/step - loss: 0.8287 - accuracy: 0.6919 - val_loss: 0.4360 - val_accuracy: 0.8866\n",
      "Epoch 17/50\n",
      "1029/1029 [==============================] - 0s 28us/step - loss: 0.8702 - accuracy: 0.6871 - val_loss: 0.4053 - val_accuracy: 0.8957\n",
      "Epoch 18/50\n",
      "1029/1029 [==============================] - 0s 29us/step - loss: 0.8141 - accuracy: 0.7308 - val_loss: 0.3809 - val_accuracy: 0.9048\n",
      "Epoch 19/50\n",
      "1029/1029 [==============================] - 0s 27us/step - loss: 0.7409 - accuracy: 0.7386 - val_loss: 0.3532 - val_accuracy: 0.9116\n",
      "Epoch 20/50\n",
      "1029/1029 [==============================] - 0s 29us/step - loss: 0.7058 - accuracy: 0.7677 - val_loss: 0.3286 - val_accuracy: 0.9161\n",
      "Epoch 21/50\n",
      "1029/1029 [==============================] - 0s 29us/step - loss: 0.7253 - accuracy: 0.7658 - val_loss: 0.3101 - val_accuracy: 0.9365\n",
      "Epoch 22/50\n",
      "1029/1029 [==============================] - 0s 29us/step - loss: 0.6320 - accuracy: 0.7988 - val_loss: 0.2953 - val_accuracy: 0.9410\n",
      "Epoch 23/50\n",
      "1029/1029 [==============================] - 0s 28us/step - loss: 0.6064 - accuracy: 0.8027 - val_loss: 0.2743 - val_accuracy: 0.9410\n",
      "Epoch 24/50\n",
      "1029/1029 [==============================] - 0s 29us/step - loss: 0.6165 - accuracy: 0.7755 - val_loss: 0.2629 - val_accuracy: 0.9456\n",
      "Epoch 25/50\n",
      "1029/1029 [==============================] - 0s 29us/step - loss: 0.5946 - accuracy: 0.7872 - val_loss: 0.2443 - val_accuracy: 0.9546\n",
      "Epoch 26/50\n",
      "1029/1029 [==============================] - 0s 29us/step - loss: 0.5718 - accuracy: 0.8183 - val_loss: 0.2298 - val_accuracy: 0.9456\n",
      "Epoch 27/50\n",
      "1029/1029 [==============================] - 0s 30us/step - loss: 0.5844 - accuracy: 0.8027 - val_loss: 0.2196 - val_accuracy: 0.9478\n",
      "Epoch 28/50\n",
      "1029/1029 [==============================] - 0s 28us/step - loss: 0.5492 - accuracy: 0.8163 - val_loss: 0.2079 - val_accuracy: 0.9592\n",
      "Epoch 29/50\n",
      "1029/1029 [==============================] - 0s 29us/step - loss: 0.5510 - accuracy: 0.8047 - val_loss: 0.2025 - val_accuracy: 0.9637\n",
      "Epoch 30/50\n",
      "1029/1029 [==============================] - 0s 30us/step - loss: 0.5145 - accuracy: 0.8338 - val_loss: 0.1998 - val_accuracy: 0.9592\n",
      "Epoch 31/50\n",
      "1029/1029 [==============================] - 0s 29us/step - loss: 0.4934 - accuracy: 0.8319 - val_loss: 0.2005 - val_accuracy: 0.9569\n",
      "Epoch 32/50\n",
      "1029/1029 [==============================] - 0s 30us/step - loss: 0.4459 - accuracy: 0.8513 - val_loss: 0.1984 - val_accuracy: 0.9615\n",
      "Epoch 33/50\n",
      "1029/1029 [==============================] - 0s 30us/step - loss: 0.4879 - accuracy: 0.8348 - val_loss: 0.2074 - val_accuracy: 0.9456\n",
      "Epoch 34/50\n",
      "1029/1029 [==============================] - 0s 28us/step - loss: 0.4580 - accuracy: 0.8416 - val_loss: 0.2052 - val_accuracy: 0.9501\n",
      "Epoch 35/50\n",
      "1029/1029 [==============================] - 0s 28us/step - loss: 0.5001 - accuracy: 0.8377 - val_loss: 0.1874 - val_accuracy: 0.9592\n",
      "Epoch 36/50\n",
      "1029/1029 [==============================] - 0s 28us/step - loss: 0.4427 - accuracy: 0.8649 - val_loss: 0.1753 - val_accuracy: 0.9705\n",
      "Epoch 37/50\n",
      "1029/1029 [==============================] - 0s 28us/step - loss: 0.4457 - accuracy: 0.8562 - val_loss: 0.1665 - val_accuracy: 0.9705\n",
      "Epoch 38/50\n",
      "1029/1029 [==============================] - 0s 28us/step - loss: 0.4345 - accuracy: 0.8601 - val_loss: 0.1621 - val_accuracy: 0.9705\n",
      "Epoch 39/50\n",
      "1029/1029 [==============================] - 0s 30us/step - loss: 0.3932 - accuracy: 0.8639 - val_loss: 0.1627 - val_accuracy: 0.9660\n",
      "Epoch 40/50\n",
      "1029/1029 [==============================] - 0s 29us/step - loss: 0.4037 - accuracy: 0.8649 - val_loss: 0.1569 - val_accuracy: 0.9683\n",
      "Epoch 41/50\n",
      "1029/1029 [==============================] - 0s 29us/step - loss: 0.3972 - accuracy: 0.8552 - val_loss: 0.1542 - val_accuracy: 0.9660\n",
      "Epoch 42/50\n",
      "1029/1029 [==============================] - 0s 29us/step - loss: 0.3734 - accuracy: 0.8805 - val_loss: 0.1498 - val_accuracy: 0.9705\n",
      "Epoch 43/50\n",
      "1029/1029 [==============================] - 0s 29us/step - loss: 0.4038 - accuracy: 0.8727 - val_loss: 0.1402 - val_accuracy: 0.9773\n",
      "Epoch 44/50\n",
      "1029/1029 [==============================] - 0s 29us/step - loss: 0.3720 - accuracy: 0.8814 - val_loss: 0.1363 - val_accuracy: 0.9751\n",
      "Epoch 45/50\n",
      "1029/1029 [==============================] - 0s 38us/step - loss: 0.3911 - accuracy: 0.8805 - val_loss: 0.1353 - val_accuracy: 0.9728\n",
      "Epoch 46/50\n",
      "1029/1029 [==============================] - 0s 28us/step - loss: 0.3668 - accuracy: 0.8776 - val_loss: 0.1278 - val_accuracy: 0.9751\n",
      "Epoch 47/50\n",
      "1029/1029 [==============================] - 0s 28us/step - loss: 0.3494 - accuracy: 0.8921 - val_loss: 0.1279 - val_accuracy: 0.9728\n",
      "Epoch 48/50\n"
     ]
    },
    {
     "name": "stdout",
     "output_type": "stream",
     "text": [
      "1029/1029 [==============================] - 0s 28us/step - loss: 0.3539 - accuracy: 0.8863 - val_loss: 0.1445 - val_accuracy: 0.9660\n",
      "Epoch 49/50\n",
      "1029/1029 [==============================] - 0s 28us/step - loss: 0.3291 - accuracy: 0.8950 - val_loss: 0.1572 - val_accuracy: 0.9615\n",
      "Epoch 50/50\n",
      "1029/1029 [==============================] - 0s 29us/step - loss: 0.3287 - accuracy: 0.8892 - val_loss: 0.1465 - val_accuracy: 0.9569\n"
     ]
    }
   ],
   "source": [
    "#Creating a Model\n",
    "from keras import models\n",
    "from keras import layers\n",
    "import keras\n",
    "\n",
    "# model 1\n",
    "model = models.Sequential()\n",
    "model.add(layers.Dense(256, activation='relu', input_shape=(X_train.shape[1],)))\n",
    "model.add(layers.Dropout(0.5))\n",
    "model.add(layers.Dense(128, activation='relu'))\n",
    "model.add(layers.Dropout(0.5))\n",
    "model.add(layers.Dense(64, activation='relu'))\n",
    "model.add(layers.Dropout(0.5))\n",
    "model.add(layers.Dense(10, activation='softmax'))\n",
    "\n",
    "# Learning Process of a model\n",
    "model.compile(optimizer='adam',\n",
    "              loss='sparse_categorical_crossentropy',\n",
    "              metrics=['accuracy'])\n",
    "model.summary()\n",
    "#return model\n",
    "\n",
    "# simple early stopping\n",
    "from keras.callbacks import EarlyStopping\n",
    "\n",
    "es = EarlyStopping(monitor='val_loss', mode='min', verbose=1)\n",
    "\n",
    "#Train with early stopping to avoid overfitting\n",
    "history = model.fit(X_train,\n",
    "                    y_train,\n",
    "                    validation_data=(X_val, y_val),\n",
    "                    epochs=50,\n",
    "                    batch_size=128)\n",
    "                    "
   ]
  },
  {
   "cell_type": "code",
   "execution_count": 8,
   "metadata": {},
   "outputs": [
    {
     "data": {
      "image/png": "[encoded data removed]",
      "text/plain": [
       "<Figure size 432x288 with 1 Axes>"
      ]
     },
     "metadata": {
      "needs_background": "light"
     },
     "output_type": "display_data"
    }
   ],
   "source": [
    "from matplotlib import pyplot\n",
    "pyplot.plot(history.history['loss'], label='train')\n",
    "pyplot.plot(history.history['val_loss'], label='test')\n",
    "pyplot.legend()\n",
    "pyplot.show()"
   ]
  },
  {
   "cell_type": "code",
   "execution_count": 9,
   "metadata": {},
   "outputs": [],
   "source": [
    "def printPrediction(X_data, y_data):\n",
    "    print('\\n# Generate predictions')\n",
    "    for i in range(len(y_data)):\n",
    "        prediction = model.predict_classes(X_data[i:i+1])\n",
    "        print(\"y={}, prediction={}, match={}\".format(y_data[i], prediction, y_data[i]==str(prediction[0])))"
   ]
  },
  {
   "cell_type": "code",
   "execution_count": 10,
   "metadata": {},
   "outputs": [],
   "source": [
    "import numpy as np\n",
    "from keras import backend as K\n",
    "from keras.models import Sequential\n",
    "from keras.layers.core import Dense, Dropout, Activation, Flatten\n",
    "from keras.layers.convolutional import Convolution2D, MaxPooling2D\n",
    "from keras.preprocessing.image import ImageDataGenerator\n",
    "from sklearn.metrics import classification_report, confusion_matrix\n",
    "\n",
    "def report(X_data, y_data):\n",
    "    #Confution Matrix and Classification Report\n",
    "    Y_pred = model.predict_classes(X_data)\n",
    "    y_test_num = y_data.astype(np.int64)\n",
    "    print('Confusion Matrix')\n",
    "    conf_mt = confusion_matrix(y_test_num, Y_pred)\n",
    "    print(conf_mt)\n",
    "    plt.matshow(conf_mt)\n",
    "    plt.show()\n",
    "    \n",
    "    print('\\nClassification Report')\n",
    "    target_names = ['0', '1', '2', '3', '4', '5', '6', '7', '8', '9']\n",
    "    print(classification_report(y_test_num, Y_pred, target_names=target_names))"
   ]
  },
  {
   "cell_type": "code",
   "execution_count": 11,
   "metadata": {},
   "outputs": [
    {
     "name": "stdout",
     "output_type": "stream",
     "text": [
      "\n",
      "# TEST DATA #\n",
      "\n",
      "30/30 [==============================] - 0s 2ms/step\n",
      "accuracy: 90.00%\n",
      "\n",
      "# Generate predictions\n",
      "y=0, prediction=[0], match=True\n",
      "y=0, prediction=[3], match=False\n",
      "y=0, prediction=[0], match=True\n",
      "y=1, prediction=[1], match=True\n",
      "y=1, prediction=[4], match=False\n",
      "y=1, prediction=[1], match=True\n",
      "y=2, prediction=[2], match=True\n",
      "y=2, prediction=[2], match=True\n",
      "y=2, prediction=[3], match=False\n",
      "y=3, prediction=[3], match=True\n"
     ]
    }
   ],
   "source": [
    "print('\\n# TEST DATA #\\n')\n",
    "score = model.evaluate(X_test, y_test)\n",
    "print(\"%s: %.2f%%\" % (model.metrics_names[1], score[1]*100))\n",
    "\n",
    "# Prediction\n",
    "printPrediction(X_test[0:10], y_test[0:10])"
   ]
  },
  {
   "cell_type": "code",
   "execution_count": 12,
   "metadata": {},
   "outputs": [
    {
     "name": "stdout",
     "output_type": "stream",
     "text": [
      "Classification Report for Test Data\n",
      "\n",
      "Confusion Matrix\n",
      "[[2 0 0 1 0 0 0 0 0 0]\n",
      " [0 2 0 0 1 0 0 0 0 0]\n",
      " [0 0 2 1 0 0 0 0 0 0]\n",
      " [0 0 0 3 0 0 0 0 0 0]\n",
      " [0 0 0 0 3 0 0 0 0 0]\n",
      " [0 0 0 0 0 3 0 0 0 0]\n",
      " [0 0 0 0 0 0 3 0 0 0]\n",
      " [0 0 0 0 0 0 0 3 0 0]\n",
      " [0 0 0 0 0 0 0 0 3 0]\n",
      " [0 0 0 0 0 0 0 0 0 3]]\n"
     ]
    },
    {
     "data": {
      "image/png": "[encoded data removed]",
      "text/plain": [
       "<Figure size 288x288 with 1 Axes>"
      ]
     },
     "metadata": {
      "needs_background": "light"
     },
     "output_type": "display_data"
    },
    {
     "name": "stdout",
     "output_type": "stream",
     "text": [
      "\n",
      "Classification Report\n",
      "              precision    recall  f1-score   support\n",
      "\n",
      "           0       1.00      0.67      0.80         3\n",
      "           1       1.00      0.67      0.80         3\n",
      "           2       1.00      0.67      0.80         3\n",
      "           3       0.60      1.00      0.75         3\n",
      "           4       0.75      1.00      0.86         3\n",
      "           5       1.00      1.00      1.00         3\n",
      "           6       1.00      1.00      1.00         3\n",
      "           7       1.00      1.00      1.00         3\n",
      "           8       1.00      1.00      1.00         3\n",
      "           9       1.00      1.00      1.00         3\n",
      "\n",
      "    accuracy                           0.90        30\n",
      "   macro avg       0.93      0.90      0.90        30\n",
      "weighted avg       0.94      0.90      0.90        30\n",
      "\n"
     ]
    }
   ],
   "source": [
    "print(\"Classification Report for Test Data\\n\")\n",
    "report(X_test, y_test)"
   ]
  },
  {
   "cell_type": "markdown",
   "metadata": {},
   "source": [
    "# Section 3\n",
    "There are 50 recordings for each digit for each speaker: Jackson, Nicolas and Theo (total 1500 recordings) Training data has 49 recordings for each digit for each speaker: 1470 recordings total. Test data has 1 recordings for each digit for each speaker: 30 recordings total.\n",
    "\n",
    "In addition, there are 2 recordings for each digit for each speaker: Ankur, Caroline and Rodolfo (total 60 recordings) This addition training data has 1 recordings for each digit for each speaker: 30 recordings total. This addition test data has 1 recordings for each digit for each speaker: 30 recordings total.\n",
    "\n",
    "Therefore the full data set has:\n",
    "\n",
    "Training: 1500 recordings\n",
    "Training: 60 recordings\n",
    "\n",
    "The data used here comes from the recordings stored in:\n",
    "\n",
    "   ../data/recordings/train\n",
    "   ../data/recordings/test\n",
    "   ../data/recordings/moreSpeakersTrain\n",
    "   ../data/recordings/moreSpeakersTest"
   ]
  },
  {
   "cell_type": "code",
   "execution_count": 13,
   "metadata": {},
   "outputs": [
    {
     "name": "stdout",
     "output_type": "stream",
     "text": [
      "Y from training data: (1050,)\n",
      "Y from validation data: (450,)\n",
      "Y from test data: (30,)\n",
      "Y from other speakers test data: (30,)\n"
     ]
    }
   ],
   "source": [
    "# Splitting the dataset into training, validation and testing dataset\n",
    "from sklearn.model_selection import train_test_split\n",
    "\n",
    "fullTrainData = trainData.append(moreTrainData)\n",
    "\n",
    "X = np.array(fullTrainData.iloc[:, :-1], dtype = float)\n",
    "y = fullTrainData.iloc[:, -1]\n",
    "X_train, X_val, y_train, y_val = train_test_split(X, y, test_size=0.3, random_state=42)\n",
    "\n",
    "X_test = np.array(testData.iloc[:, :-1], dtype = float)\n",
    "y_test = testData.iloc[:, -1]\n",
    "\n",
    "X_more_test = np.array(moreTestData.iloc[:, :-1], dtype = float)\n",
    "y_more_test = moreTestData.iloc[:, -1]\n",
    "\n",
    "print(\"Y from training data:\", y_train.shape)\n",
    "print(\"Y from validation data:\", y_val.shape)\n",
    "print(\"Y from test data:\", y_test.shape)\n",
    "print(\"Y from other speakers test data:\", y_more_test.shape)"
   ]
  },
  {
   "cell_type": "code",
   "execution_count": 14,
   "metadata": {},
   "outputs": [
    {
     "name": "stdout",
     "output_type": "stream",
     "text": [
      "X from training data (1050, 25)\n",
      "X from validation data (450, 25)\n",
      "X from test data (30, 25)\n",
      "X from other speakers test data (30, 25)\n"
     ]
    }
   ],
   "source": [
    "#Normalizing the dataset\n",
    "from sklearn.preprocessing import StandardScaler\n",
    "import numpy as np\n",
    "scaler = StandardScaler()\n",
    "X_train = scaler.fit_transform( X_train )\n",
    "X_val = scaler.transform( X_val )\n",
    "X_test = scaler.transform( X_test )\n",
    "X_more_test = scaler.transform( X_more_test )\n",
    "\n",
    "print(\"X from training data\", X_train.shape)\n",
    "print(\"X from validation data\", X_val.shape)\n",
    "print(\"X from test data\", X_test.shape)\n",
    "print(\"X from other speakers test data\", X_more_test.shape)"
   ]
  },
  {
   "cell_type": "raw",
   "metadata": {},
   "source": [
    "#Creating a Model\n",
    "from keras import models\n",
    "from keras import layers\n",
    "import keras\n",
    "\n",
    "# model 1\n",
    "model = models.Sequential()\n",
    "model.add(layers.Dense(256, activation='relu', input_shape=(X_train.shape[1],)))\n",
    "model.add(layers.Dropout(0.5))\n",
    "model.add(layers.Dense(128, activation='relu'))\n",
    "model.add(layers.Dropout(0.5))\n",
    "model.add(layers.Dense(64, activation='relu'))\n",
    "model.add(layers.Dropout(0.5))\n",
    "model.add(layers.Dense(10, activation='softmax'))\n",
    "\n",
    "# Learning Process of a model\n",
    "model.compile(optimizer='adam',\n",
    "              loss='sparse_categorical_crossentropy',\n",
    "              metrics=['accuracy'])\n",
    "\n",
    "# simple early stopping\n",
    "from keras.callbacks import EarlyStopping\n",
    "\n",
    "es = EarlyStopping(monitor='val_loss', mode='min', verbose=1)\n",
    "\n",
    "#Train with early stopping to avoid overfitting\n",
    "history = model.fit(X_train,\n",
    "                    y_train,\n",
    "                    validation_data=(X_val, y_val),\n",
    "                    epochs=50,\n",
    "                    batch_size=128, \n",
    "                    callbacks=[es])"
   ]
  },
  {
   "cell_type": "code",
   "execution_count": 15,
   "metadata": {},
   "outputs": [
    {
     "data": {
      "image/png": "[encoded data removed]",
      "text/plain": [
       "<Figure size 432x288 with 1 Axes>"
      ]
     },
     "metadata": {
      "needs_background": "light"
     },
     "output_type": "display_data"
    }
   ],
   "source": [
    "# plot training history\n",
    "from matplotlib import pyplot\n",
    "pyplot.plot(history.history['loss'], label='train')\n",
    "pyplot.plot(history.history['val_loss'], label='test')\n",
    "pyplot.legend()\n",
    "pyplot.show()"
   ]
  },
  {
   "cell_type": "markdown",
   "metadata": {},
   "source": [
    "# Present the model performance"
   ]
  },
  {
   "cell_type": "code",
   "execution_count": 16,
   "metadata": {},
   "outputs": [
    {
     "name": "stdout",
     "output_type": "stream",
     "text": [
      "\n",
      "# TEST DATA #\n",
      "\n",
      "30/30 [==============================] - 0s 40us/step\n",
      "accuracy: 90.00%\n",
      "\n",
      "# Generate predictions\n",
      "y=0, prediction=[0], match=True\n",
      "y=0, prediction=[3], match=False\n",
      "y=0, prediction=[0], match=True\n",
      "y=1, prediction=[1], match=True\n",
      "y=1, prediction=[4], match=False\n",
      "y=1, prediction=[1], match=True\n",
      "y=2, prediction=[2], match=True\n",
      "y=2, prediction=[2], match=True\n",
      "y=2, prediction=[3], match=False\n",
      "y=3, prediction=[3], match=True\n"
     ]
    }
   ],
   "source": [
    "print('\\n# TEST DATA #\\n')\n",
    "score = model.evaluate(X_test, y_test)\n",
    "print(\"%s: %.2f%%\" % (model.metrics_names[1], score[1]*100))\n",
    "\n",
    "# Prediction\n",
    "printPrediction(X_test[0:10], y_test[0:10])"
   ]
  },
  {
   "cell_type": "code",
   "execution_count": 17,
   "metadata": {},
   "outputs": [
    {
     "name": "stdout",
     "output_type": "stream",
     "text": [
      "\n",
      "# OTHER SPEAKERS DATA #\n",
      "\n",
      "30/30 [==============================] - 0s 95us/step\n",
      "accuracy: 26.67%\n",
      "\n",
      "# Generate predictions\n",
      "y=0, prediction=[2], match=False\n",
      "y=0, prediction=[2], match=False\n",
      "y=0, prediction=[8], match=False\n",
      "y=1, prediction=[0], match=False\n",
      "y=1, prediction=[0], match=False\n",
      "y=1, prediction=[1], match=True\n",
      "y=2, prediction=[2], match=True\n",
      "y=2, prediction=[8], match=False\n",
      "y=2, prediction=[6], match=False\n",
      "y=3, prediction=[3], match=True\n"
     ]
    }
   ],
   "source": [
    "print('\\n# OTHER SPEAKERS DATA #\\n')\n",
    "score = model.evaluate(X_more_test, y_more_test)\n",
    "print(\"%s: %.2f%%\" % (model.metrics_names[1], score[1]*100))\n",
    "\n",
    "# Prediction\n",
    "printPrediction(X_more_test[0:10], y_more_test[0:10])"
   ]
  },
  {
   "cell_type": "code",
   "execution_count": 18,
   "metadata": {},
   "outputs": [
    {
     "name": "stdout",
     "output_type": "stream",
     "text": [
      "Classification Report for Test Data\n",
      "\n",
      "Confusion Matrix\n",
      "[[2 0 0 1 0 0 0 0 0 0]\n",
      " [0 2 0 0 1 0 0 0 0 0]\n",
      " [0 0 2 1 0 0 0 0 0 0]\n",
      " [0 0 0 3 0 0 0 0 0 0]\n",
      " [0 0 0 0 3 0 0 0 0 0]\n",
      " [0 0 0 0 0 3 0 0 0 0]\n",
      " [0 0 0 0 0 0 3 0 0 0]\n",
      " [0 0 0 0 0 0 0 3 0 0]\n",
      " [0 0 0 0 0 0 0 0 3 0]\n",
      " [0 0 0 0 0 0 0 0 0 3]]\n"
     ]
    },
    {
     "data": {
      "image/png": "[encoded data removed]",
      "text/plain": [
       "<Figure size 288x288 with 1 Axes>"
      ]
     },
     "metadata": {
      "needs_background": "light"
     },
     "output_type": "display_data"
    },
    {
     "name": "stdout",
     "output_type": "stream",
     "text": [
      "\n",
      "Classification Report\n",
      "              precision    recall  f1-score   support\n",
      "\n",
      "           0       1.00      0.67      0.80         3\n",
      "           1       1.00      0.67      0.80         3\n",
      "           2       1.00      0.67      0.80         3\n",
      "           3       0.60      1.00      0.75         3\n",
      "           4       0.75      1.00      0.86         3\n",
      "           5       1.00      1.00      1.00         3\n",
      "           6       1.00      1.00      1.00         3\n",
      "           7       1.00      1.00      1.00         3\n",
      "           8       1.00      1.00      1.00         3\n",
      "           9       1.00      1.00      1.00         3\n",
      "\n",
      "    accuracy                           0.90        30\n",
      "   macro avg       0.93      0.90      0.90        30\n",
      "weighted avg       0.94      0.90      0.90        30\n",
      "\n",
      "Classification Report for Other Speakers\n",
      "\n",
      "Confusion Matrix\n",
      "[[0 0 2 0 0 0 0 0 1 0]\n",
      " [2 1 0 0 0 0 0 0 0 0]\n",
      " [0 0 1 0 0 0 1 0 1 0]\n",
      " [0 0 0 1 0 0 1 0 1 0]\n",
      " [0 0 0 0 0 2 1 0 0 0]\n",
      " [0 0 1 0 0 1 1 0 0 0]\n",
      " [0 0 0 0 0 0 2 0 1 0]\n",
      " [0 0 1 0 0 0 2 0 0 0]\n",
      " [0 0 0 0 0 0 2 0 1 0]\n",
      " [1 0 1 0 0 0 0 0 0 1]]\n"
     ]
    },
    {
     "data": {
      "image/png": "[encoded data removed]",
      "text/plain": [
       "<Figure size 288x288 with 1 Axes>"
      ]
     },
     "metadata": {
      "needs_background": "light"
     },
     "output_type": "display_data"
    },
    {
     "name": "stdout",
     "output_type": "stream",
     "text": [
      "\n",
      "Classification Report\n",
      "              precision    recall  f1-score   support\n",
      "\n",
      "           0       0.00      0.00      0.00         3\n",
      "           1       1.00      0.33      0.50         3\n",
      "           2       0.17      0.33      0.22         3\n",
      "           3       1.00      0.33      0.50         3\n",
      "           4       0.00      0.00      0.00         3\n",
      "           5       0.33      0.33      0.33         3\n",
      "           6       0.20      0.67      0.31         3\n",
      "           7       0.00      0.00      0.00         3\n",
      "           8       0.20      0.33      0.25         3\n",
      "           9       1.00      0.33      0.50         3\n",
      "\n",
      "    accuracy                           0.27        30\n",
      "   macro avg       0.39      0.27      0.26        30\n",
      "weighted avg       0.39      0.27      0.26        30\n",
      "\n"
     ]
    },
    {
     "name": "stderr",
     "output_type": "stream",
     "text": [
      "C:\\Users\\Yana\\Anaconda3\\lib\\site-packages\\sklearn\\metrics\\classification.py:1437: UndefinedMetricWarning: Precision and F-score are ill-defined and being set to 0.0 in labels with no predicted samples.\n",
      "  'precision', 'predicted', average, warn_for)\n"
     ]
    }
   ],
   "source": [
    "print(\"Classification Report for Test Data\\n\")\n",
    "report(X_test, y_test)\n",
    "\n",
    "print(\"Classification Report for Other Speakers\\n\")\n",
    "report(X_more_test, y_more_test)"
   ]
  },
  {
   "cell_type": "code",
   "execution_count": null,
   "metadata": {},
   "outputs": [],
   "source": []
  }
 ],
 "metadata": {
  "kernelspec": {
   "display_name": "Python 3",
   "language": "python",
   "name": "python3"
  },
  "language_info": {
   "codemirror_mode": {
    "name": "ipython",
    "version": 3
   },
   "file_extension": ".py",
   "mimetype": "text/x-python",
   "name": "python",
   "nbconvert_exporter": "python",
   "pygments_lexer": "ipython3",
   "version": "3.7.4"
  }
 },
 "nbformat": 4,
 "nbformat_minor": 5
}
